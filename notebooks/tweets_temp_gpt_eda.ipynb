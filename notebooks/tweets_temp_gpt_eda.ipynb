{
 "cells": [
  {
   "cell_type": "markdown",
   "metadata": {},
   "source": [
    "## EDA"
   ]
  },
  {
   "cell_type": "code",
   "execution_count": null,
   "metadata": {},
   "outputs": [],
   "source": [
    "import pandas as pd\n",
    "\n",
    "data = pd.read_pickle('dane/done/tweets_cutoff.pkl')\n",
    "openai_results = data['openai_results'].to_list()\n",
    "len(openai_results)"
   ]
  },
  {
   "cell_type": "code",
   "execution_count": null,
   "metadata": {},
   "outputs": [],
   "source": [
    "import ast\n",
    "\n",
    "for i in range(len(openai_results)):\n",
    "    result = openai_results[i]\n",
    "    result = result.replace('\\n', '')\n",
    "    try:\n",
    "        openai_results[i] = ast.literal_eval(result)\n",
    "\n",
    "    except Exception as e:\n",
    "            print(f\"An error occurred: {e}\")\n",
    "            print(i)\n",
    "            print(openai_results[i])"
   ]
  },
  {
   "cell_type": "code",
   "execution_count": null,
   "metadata": {},
   "outputs": [],
   "source": [
    "result_list = []\n",
    "\n",
    "for i, row in data_more.reset_index().iterrows():\n",
    "    \n",
    "    if isinstance(openai_results[i], list):\n",
    "        results = openai_results[i]\n",
    "    else:\n",
    "        results = [openai_results[i]]\n",
    "    for result in results:\n",
    "        if isinstance(result, dict) and bool(result):\n",
    "            new_data = {'tweet_id' : row['tweet_id'],\n",
    "                    'username' : row['username'],\n",
    "                    'date' : row['date'],\n",
    "                    'text_all': row['text'],\n",
    "                    'text': result['text'], \n",
    "                    'topic' : result['topic'], \n",
    "                    'sentiment' : result['sentiment']\n",
    "                    }\n",
    "            result_list.append(new_data)\n",
    "\n",
    "df = pd.DataFrame(result_list)"
   ]
  },
  {
   "cell_type": "code",
   "execution_count": 1058,
   "metadata": {},
   "outputs": [
    {
     "data": {
      "text/html": [
       "<div>\n",
       "<style scoped>\n",
       "    .dataframe tbody tr th:only-of-type {\n",
       "        vertical-align: middle;\n",
       "    }\n",
       "\n",
       "    .dataframe tbody tr th {\n",
       "        vertical-align: top;\n",
       "    }\n",
       "\n",
       "    .dataframe thead th {\n",
       "        text-align: right;\n",
       "    }\n",
       "</style>\n",
       "<table border=\"1\" class=\"dataframe\">\n",
       "  <thead>\n",
       "    <tr style=\"text-align: left;\">\n",
       "      <th></th>\n",
       "      <th>text</th>\n",
       "      <th>topic</th>\n",
       "      <th>sentiment</th>\n",
       "    </tr>\n",
       "  </thead>\n",
       "  <tbody>\n",
       "    <tr>\n",
       "      <th>0</th>\n",
       "      <td>wiadomość prosto od mera kijowa vitaliy_klychko starsze pociągi metra warszawskiego od wczoraj wożą pasażerów w stolicy ukrainy łącznie przekazaliśmy 60 w pełni sprawnych technicznie wagonów z serii 81 które w warszawa były wycofywane z codziennego użytku wraz z pojawianiem się nowych składów teraz będą dużym wsparciem dla tamtejszej kolei podziemnej niech dobrze służą naszym przyjaciołom z ukrainy 🇵🇱🇺🇦 standwithukraine samorządydlaukrainy</td>\n",
       "      <td>ukraina</td>\n",
       "      <td>positive</td>\n",
       "    </tr>\n",
       "    <tr>\n",
       "      <th>1</th>\n",
       "      <td>pis jest znany z przecinania wstęgi po kilka razy więc i pan minister gróbarczyk nie zawiódł</td>\n",
       "      <td>rząd</td>\n",
       "      <td>neutral</td>\n",
       "    </tr>\n",
       "    <tr>\n",
       "      <th>2</th>\n",
       "      <td>meldunek od serca</td>\n",
       "      <td>inflacja</td>\n",
       "      <td>neutral</td>\n",
       "    </tr>\n",
       "    <tr>\n",
       "      <th>3</th>\n",
       "      <td>drastyczny wzrost ceny hurtowej oleju napędowego i benzyny</td>\n",
       "      <td>inflacja</td>\n",
       "      <td>negative</td>\n",
       "    </tr>\n",
       "    <tr>\n",
       "      <th>4</th>\n",
       "      <td>15 października pan obajtek z ekipą zapewne odkłada kasę na prawników i odszkodowania</td>\n",
       "      <td>sądownictwo</td>\n",
       "      <td>negative</td>\n",
       "    </tr>\n",
       "    <tr>\n",
       "      <th>...</th>\n",
       "      <td>...</td>\n",
       "      <td>...</td>\n",
       "      <td>...</td>\n",
       "    </tr>\n",
       "    <tr>\n",
       "      <th>1217</th>\n",
       "      <td>mnie mimo wszystko śmieszy ten zbieg okoliczności aczkolwiek nie zdziwię się jeśli roman giertych napisze że akcja krzysztofa stanowskiego to pisowska operacja niszczenia fenomenalnej kampanii po janoszek</td>\n",
       "      <td>polityka</td>\n",
       "      <td>positive</td>\n",
       "    </tr>\n",
       "    <tr>\n",
       "      <th>1218</th>\n",
       "      <td>czołowi politycy po w warszawie przebywają decyzjami sądów w areszcie w związku z zarzutami korupcyjnymi</td>\n",
       "      <td>korupcja</td>\n",
       "      <td>negative</td>\n",
       "    </tr>\n",
       "    <tr>\n",
       "      <th>1219</th>\n",
       "      <td>donald tusk tyle mówi o mafiach może mu o kolegów swoich chodzi dlatego chcą zlikwidować cba</td>\n",
       "      <td>korupcja</td>\n",
       "      <td>negative</td>\n",
       "    </tr>\n",
       "    <tr>\n",
       "      <th>1220</th>\n",
       "      <td>słynny handlarz roszczeniami marek m skazany na 25 roku więzienia za przekręt w ramach afery reprywatyzacyjnej</td>\n",
       "      <td>reprywatyzacja</td>\n",
       "      <td>negative</td>\n",
       "    </tr>\n",
       "    <tr>\n",
       "      <th>1221</th>\n",
       "      <td>afera śmieciowa ma twarz po próbują zakrzyczeć fakty a jednym z nich jest ten że niedawno sąd przedłużył areszt włodzimierzowi karpińskiemu uczynił tak właśnie również wobec rafała baniaka to jedna z kilku ledwie korupcyjnych afer wokół warszawskiego ratusza z ostatnich miesięcy do aresztu trafił kilka dni temu inny działacz po zastępca burmistrza pragi-południe a co robił rafał trzaskowski_ czy jest jakieś wzmocnienie polityki antykorupcyjnej w ratuszu zamiast pilnować warszawy ciągle jest w rozjazdach w ramach kampanii po a zapomniałem po ma jednak plan na walkę z korupcję likwidację cba tvpinfo/71616387/warszawska...</td>\n",
       "      <td>korupcja</td>\n",
       "      <td>negative</td>\n",
       "    </tr>\n",
       "  </tbody>\n",
       "</table>\n",
       "<p>5125 rows × 3 columns</p>\n",
       "</div>"
      ],
      "text/plain": [
       "     text                                                                                                                                                                                                                                                                                                                                                                                                                                                                                                                                                                                                                                                  \\\n",
       "0                                                                                                                                                                                             wiadomość prosto od mera kijowa vitaliy_klychko starsze pociągi metra warszawskiego od wczoraj wożą pasażerów w stolicy ukrainy łącznie przekazaliśmy 60 w pełni sprawnych technicznie wagonów z serii 81 które w warszawa były wycofywane z codziennego użytku wraz z pojawianiem się nowych składów teraz będą dużym wsparciem dla tamtejszej kolei podziemnej niech dobrze służą naszym przyjaciołom z ukrainy 🇵🇱🇺🇦 standwithukraine samorządydlaukrainy   \n",
       "1                                                                                                                                                                                                                                                                                                                                                                                                                                                                                                                                                            pis jest znany z przecinania wstęgi po kilka razy więc i pan minister gróbarczyk nie zawiódł   \n",
       "2                                                                                                                                                                                                                                                                                                                                                                                                                                                                                                                                                                                                                                       meldunek od serca   \n",
       "3                                                                                                                                                                                                                                                                                                                                                                                                                                                                                                                                                                                              drastyczny wzrost ceny hurtowej oleju napędowego i benzyny   \n",
       "4                                                                                                                                                                                                                                                                                                                                                                                                                                                                                                                                                                   15 października pan obajtek z ekipą zapewne odkłada kasę na prawników i odszkodowania   \n",
       "...                                                                                                                                                                                                                                                                                                                                                                                                                                                                                                                                                                                                                                                   ...   \n",
       "1217                                                                                                                                                                                                                                                                                                                                                                                                                                         mnie mimo wszystko śmieszy ten zbieg okoliczności aczkolwiek nie zdziwię się jeśli roman giertych napisze że akcja krzysztofa stanowskiego to pisowska operacja niszczenia fenomenalnej kampanii po janoszek   \n",
       "1218                                                                                                                                                                                                                                                                                                                                                                                                                                                                                                                                             czołowi politycy po w warszawie przebywają decyzjami sądów w areszcie w związku z zarzutami korupcyjnymi   \n",
       "1219                                                                                                                                                                                                                                                                                                                                                                                                                                                                                                                                                         donald tusk tyle mówi o mafiach może mu o kolegów swoich chodzi dlatego chcą zlikwidować cba   \n",
       "1220                                                                                                                                                                                                                                                                                                                                                                                                                                                                                                                                       słynny handlarz roszczeniami marek m skazany na 25 roku więzienia za przekręt w ramach afery reprywatyzacyjnej   \n",
       "1221  afera śmieciowa ma twarz po próbują zakrzyczeć fakty a jednym z nich jest ten że niedawno sąd przedłużył areszt włodzimierzowi karpińskiemu uczynił tak właśnie również wobec rafała baniaka to jedna z kilku ledwie korupcyjnych afer wokół warszawskiego ratusza z ostatnich miesięcy do aresztu trafił kilka dni temu inny działacz po zastępca burmistrza pragi-południe a co robił rafał trzaskowski_ czy jest jakieś wzmocnienie polityki antykorupcyjnej w ratuszu zamiast pilnować warszawy ciągle jest w rozjazdach w ramach kampanii po a zapomniałem po ma jednak plan na walkę z korupcję likwidację cba tvpinfo/71616387/warszawska...   \n",
       "\n",
       "     topic           sentiment  \n",
       "0            ukraina  positive  \n",
       "1               rząd   neutral  \n",
       "2           inflacja   neutral  \n",
       "3           inflacja  negative  \n",
       "4        sądownictwo  negative  \n",
       "...              ...       ...  \n",
       "1217        polityka  positive  \n",
       "1218        korupcja  negative  \n",
       "1219        korupcja  negative  \n",
       "1220  reprywatyzacja  negative  \n",
       "1221        korupcja  negative  \n",
       "\n",
       "[5125 rows x 3 columns]"
      ]
     },
     "execution_count": 1058,
     "metadata": {},
     "output_type": "execute_result"
    }
   ],
   "source": [
    "pd.set_option('display.max_colwidth', None)\n",
    "\n",
    "df[['text', 'topic','sentiment']]"
   ]
  },
  {
   "cell_type": "code",
   "execution_count": null,
   "metadata": {},
   "outputs": [],
   "source": [
    "df.to_pickle('dane/done/tweets_fragments_final.pkl')"
   ]
  },
  {
   "cell_type": "code",
   "execution_count": 1046,
   "metadata": {},
   "outputs": [],
   "source": [
    "df = pd.read_pickle('dane/done/tweets_fragments_final.pkl')"
   ]
  },
  {
   "cell_type": "code",
   "execution_count": 1047,
   "metadata": {},
   "outputs": [
    {
     "data": {
      "text/plain": [
       "5312"
      ]
     },
     "execution_count": 1047,
     "metadata": {},
     "output_type": "execute_result"
    }
   ],
   "source": [
    "len(df)"
   ]
  },
  {
   "cell_type": "markdown",
   "metadata": {},
   "source": [
    "### tematy"
   ]
  },
  {
   "cell_type": "code",
   "execution_count": 1048,
   "metadata": {},
   "outputs": [
    {
     "name": "stdout",
     "output_type": "stream",
     "text": [
      "Ilość tematów przed wyczyszczeniem: 672\n",
      "['Ukraina' 'rząd' 'Inflacja' 'sądownictwo' 'TVP' 'polityka' 'relokacja'\n",
      " 'neutral' 'prawa kobiet' 'podziękowanie' 'marihuana' 'wybory'\n",
      " 'transport publiczny' 'None' 'sport' 'patriotyzm' 'kampania wyborcza'\n",
      " 'Polityka' 'Nieokreślony' 'Patriotyzm' 'prawa wyborcze' 'pojednanie'\n",
      " 'NFZ' 'publiczna opieka zdrowotna' 'jedność' 'spotkanie' 'wośp' 'aborcja'\n",
      " 'lgbt' '500plus' 'unknown' 'edukacja seksualna' 'politics' 'przesądy'\n",
      " 'Kościół' 'węgiel' 'unspecified' 'policja' 'PFR' 'wdzięczność'\n",
      " 'undefined' 'Stany Zjednoczone' 'CBOS' 'frekwencja wyborcza' 'Inne'\n",
      " 'zdrowie' 'równość płac' 'reklama kampanii' 'Czas' 'społeczeństwo'\n",
      " 'ekologia' 'Covid' 'trójmiasto' 'Inwestycje drogowe' 'feminizm'\n",
      " 'telekomunikacja' 'Społeczeństwo' 'Nieznany' 'miejsce' 'kraj' 'telefon'\n",
      " 'bezpieczeństwo' 'świeckie państwo' 'wojsko' 'Emerytura' 'Imigranci'\n",
      " 'polityka zagraniczna' 'przemoc' 'solidarność' 'personal' 'rekomendacja'\n",
      " 'nierówność majątkowa' 'wspólnota' 'polityczne' 'prawa zwierząt'\n",
      " 'prawo karne' 'brak tematu' 'telewizja publiczna' 'politycy' 'media'\n",
      " 'płot' 'Poland' 'zwierzęta' 'las' 'demokracja bezpośrednia'\n",
      " 'referendum lubbezposredniopl' 'adres siedziby' 'partia polityczna'\n",
      " 'rozstrzygnięcie' 'In-vitro' 'granica polsko-białoruska' 'Rosja'\n",
      " 'prawa obywatelskie' 'rządy' 'referendum' 'referenda' 'lewica' 'TVN'\n",
      " 'Unknown' 'podatki' 'none' 'rejestracja partii politycznej' 'opozycja'\n",
      " 'platforma' 'polska polityka' 'Prawo i Sprawiedliwość' 'Unia Europejska'\n",
      " 'Tusk' 'Edukacja' 'lokalna półka' 'rząd PiS' 'prywatyzacja'\n",
      " 'Unidentified' 'Podatki' 'Finanse' 'Infrastuktura drogowa' \"Tusk's party\"\n",
      " 'Donald Tusk' 'ruch drogowy' 'Polska' 'Inwestycje lokalne' 'pamiętamy'\n",
      " 'święta wielkanocne' 'Edukacja seksualna' 'ochrona środowiska'\n",
      " 'polityka gospodarcza' 'żołnierze wyklęci' 'N/A' 'Pamięć'\n",
      " 'obrona terytorialna' 'Seniorzy' 'śmierć' 'reparationsforpoland'\n",
      " 'żołnierze' 'partia wolności' 'dyktatura' 'NATO' 'służba bezpieczeństwa'\n",
      " 'służba w strukturach ochrony państwa' 'zbrojeniówka' 'kampanie wyborcze'\n",
      " 'tematy polityczne' 'prezydent Andrzej Duda' 'Podziękowania' 'strażacy'\n",
      " 'wspólne ćwiczenia wojskowe' 'religia' 'Eurowizja Junior'\n",
      " 'wojsko polskie' 'pamięć historyczna' 'pamięć' 'cud' 'szlachetnapaczka'\n",
      " 'USA' 'święto niepodległości' 'Głosowanie' 'debata' 'pogoda'\n",
      " 'ruch społeczny' 'paliwa' 'stosunki międzynarodowe' 'Rozrywka' 'rosja'\n",
      " 'inflacja' 'imigranci' 'unia europejska' 'demokracja' 'wolność' 'protest'\n",
      " 'nierówność płac' 'Korupcja' 'Równość płac' 'środowisko' 'korupcja'\n",
      " 'Platforma' 'PiS' 'General' 'nieznany' 'miasta' 'mieszkanieplus'\n",
      " 'polityka lokalna' 'praca' 'umiejętności' 'samodoskonalenie' 'przemyt'\n",
      " 'spółki skarbu państwa' 'technologia komunikacyjna' 'prawa korporacyjne'\n",
      " 'siła i nadzieja' 'bezradna złość' 'konsultacje społeczne'\n",
      " 'PIS (Prawo i Sprawiedliwość)' '800plus' 'polska' 'samorządy'\n",
      " 'infrastruktura' 'Prawo i Sprawiedliwość (PiS)'\n",
      " 'PiS (Prawo i Sprawiedliwość)' 'Ogólne' 'reformy wyborcze' 'pisorgpl'\n",
      " 'suwerenność' 'Zbrojenia' 'marynarka wojenna' 'siły zbrojne' 'ekonomia'\n",
      " 'ewakuacja' 'wojska obrony terytorialnej' 'służba zdrowia' 'Inna'\n",
      " 'bezzałogowe statki powietrzne' 'bezpieczeństwo narodowe'\n",
      " 'granica polsko-słowacka' 'cyberbezpieczeństwo'\n",
      " 'Granica polsko-białoruska' 'Współpraca międzynarodowa'\n",
      " 'Współpraca wojskowa' 'polityka obronna' 'paliwo' 'spotkanie otwarte'\n",
      " 'kampania polityczna' 'prawa środowiskowe' 'kradzież' 'Andrzej Duda'\n",
      " 'zdrowie dzieci' 'zbieranie miodu' 'Rząd' 'historia Polski'\n",
      " 'przyszłość Polski' 'polityczna koalicja' 'demokratyczna Polska'\n",
      " 'doświadczenie' 'środowisko naturalne' 'polityka społeczna' 'bezrobocie'\n",
      " 'emigracja' 'rolnictwo' 'historia' 'sentiment' 'Prawa kobiet' 'ZUS'\n",
      " 'ordynacja wyborcza' 'dezinformacja' 'życzenia rocznicowe' 'wojna' 'Film'\n",
      " 'telewizja polska' 'rozczarowanie' 'puste serca' 'Niemcy'\n",
      " 'Partia Platforma' 'Rząd PiS' 'zespół' 'rozrywka'\n",
      " 'rządowy program polski ład' 'Policja' 'Porównanie'\n",
      " 'katastrofa naturalna' 'energia elektryczna' 'Dyplomacja'\n",
      " 'Prawa człowieka' 'brutalność polskiej policji' 'not applicable'\n",
      " 'przepraszanie' 'oppositionsfuhrer' 'edukacja' 'platforma obywatelska'\n",
      " 'energia jądrowa' 'bezpiecznapolska' 'public safety' 'inne' 'Internet'\n",
      " 'bezpieczna Polska' 'kultura' 'Prawo i polityka'\n",
      " 'pamięć walczącym o wolną polskę' 'Inwestycje' 'fejk' 'Solidarność'\n",
      " 'Relokacja' 'relacje polsko-niemieckie' 'PIS' 'prawa dzieci' 'sztuka'\n",
      " 'rządzenie lokalne' 'Inwestycje infrastrukturalne'\n",
      " 'polskie pieśni patriotyczne' 'ochota do śpiewania' 'organizatorzy'\n",
      " 'Inna tematyka' 'uroczystości' 'Stosunki polsko-niemieckie'\n",
      " 'polityka obietnic' 'infrastruktura drogowa' 'bezpieczeństwo drogowe'\n",
      " 'Innowacje technologiczne' 'Śpiewanie w Szczecinie' 'tradycja polska'\n",
      " 'gospodarka' 'Gospodarka' 'rejestr wyborców' 'Wybory' 'inwestycje'\n",
      " 'Służba zdrowia' 'Rozwój lokalny' 'rządowe inwestycje' 'energetyka'\n",
      " 'Energetyka' 'publiczne wsparcie' 'modernizacja targowiska' 'turystyka'\n",
      " 'infrastruktura sportowa' 'budowa świetlicy wiejskiej'\n",
      " 'Infrastruktura drogowa' 'Parki i tereny rekreacyjne'\n",
      " 'Wsparcie finansowe' 'finanse publiczne' 'tabletka dzień po'\n",
      " 'infrastruktura turystyczna' 'dofinansowania' 'fundacja WOŚP'\n",
      " 'inwestycja drogowa' 'rządy Zjednoczonej Prawicy'\n",
      " 'bezpieczeństwo państwa' 'sport/narodowa reprezentacja' 'rząd pis'\n",
      " 'Nagroda filmowa' 'Działalność społeczna' 'Historia' 'zaufanie'\n",
      " 'współpraca regionalna' 'Infrastruktura' 'rządowe wsparcie'\n",
      " 'inwestycje w infrastrukturę' 'inwestycje gospodarcze'\n",
      " 'renowacja zabytków' 'Inwestycja lotnicza' 'manipulacje dezinformacja'\n",
      " 'Polityka lokalna' 'ochotnicze jednostki straży pożarnej' 'urlop'\n",
      " 'pamięć prezydenta Lecha Kaczyńskiego' 'katastrofa smoleńska'\n",
      " 'pamięć ofiar katastrofy' 'Inicjatywa społeczna' 'Fundament projektu'\n",
      " 'publiczna debata' 'rozwoj Polski i regionu' 'polityczne przekonania'\n",
      " 'lokalne inicjatywy' 'Inwestycje strategiczne' 'samorządowcy'\n",
      " 'administracja publiczna' 'technologia' 'Dożynki' 'Sport' 'wyróżnienia'\n",
      " 'święto plonów' 'dożynki gminne' 'święto pieroga' 'współpraca'\n",
      " 'miejsca turystyczne' 'gastronomia' 'Brak tematu' 'tradycja dożynkowa'\n",
      " 'oszustwo' 'Zabytki' 'II wojna światowa' 'Bohaterowie II wojny światowej'\n",
      " 'Bezpieczna przyszłość Polaków' 'sprzedaż terenów lotniska'\n",
      " 'likwidacja lotniska' 'przeniesienie ruchu komercyjnego'\n",
      " 'sprzedaż gruntów' 'status prawny gruntów' 'samorząd' 'rozwoj' 'dożynki'\n",
      " 'tradycje' 'Podziękowanie' 'emerytura' 'perspektywy' 'Bezpieczny budżet'\n",
      " 'rządy Tuska' 'rządy PiS' 'partycja rządząca' 'Polska narodowość'\n",
      " 'Negatywne emocje' 'święto wojska polskiego' 'Wojsko' 'Prawa Kobiet'\n",
      " 'powstanie warszawskie' 'gospodarka odpadowa' 'platforma_org' 'smutek'\n",
      " 'ochrona przyrody' 'rozwój regionalny' 'ochrona zabytków'\n",
      " 'publiczna współpraca' 'wyróżnienie' 'publiczna praca'\n",
      " 'Finanse publiczne' 'Media' 'Gaza' 'zbrojenia' 'armia' 'budżet'\n",
      " 'przemysł obronny' 'technologie' 'produkcja haubicy krab'\n",
      " 'produkcja pojazdów gąsienicowych w Bumarze'\n",
      " 'program naprawczy dla Bumaru' 'rząd pisorgpl' 'Lublin'\n",
      " 'nadużycia finansowe' 'Innowacje wojskowe' 'Modernizacja armii'\n",
      " 'polish arms industry' 'propaganda' 'przemysł zbrojeniowy'\n",
      " 'wojskowe zakłady lotnicze' 'wojskowe pokazy' 'publiczne zamówienia'\n",
      " 'Przemysł zbrojeniowy' 'reforma systemu kierowania i dowodzenia'\n",
      " 'państwowe zakłady zbrojeniowe' 'rząd Kaczyńskiego' 'zarząd PGZ'\n",
      " 'zagrożenie środowiska' 'wojsk bezzałogowców' 'Inwestycje wojskowe'\n",
      " 'Przemysł' 'zakup okrętów podwodnych' 'politycy Platformy Obywatelskiej'\n",
      " 'politycy Prawa i Sprawiedliwości' 'negocjacje' 'zamówienia publiczne'\n",
      " 'wojna na Ukrainie' 'finanse' 'obrona państwa' 'przemysł'\n",
      " 'badania i rozwój' 'Płot' 'wspólnie' 'tradycja' 'modernizacja armii'\n",
      " 'Siły Zbrojne RP' 'Kultura i Tradycje' 'film' 'Praca'\n",
      " 'podwyżki dla pracowników wojska' 'bezpieczeństwo publiczne'\n",
      " 'Motoryzacja' 'przetarg' 'Bezpieczeństwo' 'Filmy o mostach'\n",
      " 'Teledysk Zenka Martyniuka' \"Kabaret 'Bambik'\"\n",
      " 'Most otwarty przez Morawieckiego' 'polskie systemy obrony powietrznej'\n",
      " 'Polska artyleria samobieżna' 'zakupy zagranicznego sprzętu wojskowego'\n",
      " 'mesko' 'Siły Zbrojne' 'prawa pracownicze' 'offset' 'importy zbrojeniowe'\n",
      " 'Węgiel' 'kontrole w rolnictwie' 'produkcja modułu moździerzy rak'\n",
      " 'rolnicy' 'Artyleria i drony' 'Polska armia'\n",
      " 'narodowy program amunicyjny' 'obronność' 'drony'\n",
      " 'inwestycje zagraniczne' 'eksport sprzętu wojskowego'\n",
      " 'bezpieczeństwo żywnościowe' 'rządy pisorgpl' 'MMA' 'Sądownictwo' 'Armia'\n",
      " 'Konflikt na Ukrainie' 'broń' 'Inny'\n",
      " 'wojskowa baza lotnictwa transportowego' 'prywatność/internet'\n",
      " 'Polityka zagraniczna' 'wojna pancerna' 'Broń' 'wozy bojowe'\n",
      " 'zbrojeniowe' 'produkcja czołgów' 'potencjał obronny' 'Bumar Łabędy'\n",
      " 'kontrola' 'programy obronne' 'programy rządowe'\n",
      " 'Polska Grupa Zbrojeniowa (PGZ)' 'krab' 'HSW' 'przetargi' 'mblaszczak'\n",
      " 'polski ład dla rolników' 'podwyżki dopłat bezpośrednich' 'Obrona'\n",
      " 'Handel zagraniczny' 'Przemysł obronny' 'rządu platforma_org' 'nowepsl'\n",
      " 'prawa zamówień publicznych' 'kontrola spółek państwowych'\n",
      " 'zakłady zbrojeniowe' 'zagraniczna polityka' 'loty'\n",
      " 'stosunki polsko-ukraińskie' 'lider opozycji' 'waloryzacja'\n",
      " 'Telewizja publiczna' 'biurokracja' 'Francja' 'redukowanie biurokracji'\n",
      " 'przedsiębiorcy' 'wołyń' 'rynek pracy' 'przedsiębiorczość' 'Deregulacja'\n",
      " 'deregulacja' 'charytatywny mecz' 'pomoc dla dzieci' 'prawa gospodarcze'\n",
      " 'rozwój polski' 'rozwoj społeczny budownictwa mieszkaniowego'\n",
      " 'rozwiązywanie problemów polski „powiatowo-gminnej”' 'czyste powietrze'\n",
      " 'procedury administracyjne' 'rozwoj Polski' 'rządzenie' 'onkologia'\n",
      " 'służby ratownicze' 'wypadek' 'służby'\n",
      " 'reforma systemu kształcenia lekarzy' 'recepty internetowe' 'receptomaty'\n",
      " 'profilaktyka' 'Nieznany temat' 'prawa pacjenta' 'transport'\n",
      " 'edukacja medyczna' 'gospodarka lokalna' 'społeczność lokalna'\n",
      " 'rząd Morawieckiego' 'szczepienia' 'solidarity'\n",
      " 'international cooperation' 'conflict with Russia' 'FIFA' 'Zdrowie'\n",
      " 'Inspirujący cytat' 'Nowy ogród w Tomyślu'\n",
      " 'Gratulacje za nową przestrzeń społeczną' 'spotkania i dyskusje'\n",
      " 'lokalna społeczność' 'public health' 'społeczeństwo i państwo'\n",
      " 'wielkopolska' 'katastrofa' 'pomoc' 'ochrona zdrowia' 'wspieranie'\n",
      " 'Publiczna opieka zdrowotna' 'Nieprzypisane'\n",
      " 'narodowy dzień żołnierzy wyklętych' 'podziemie niepodległościowe'\n",
      " 'pomoc medyczna' 'danuta siedzikówna' 'Pamięć historyczna'\n",
      " 'rebuilding and medical equipment' 'Ukraine' 'Emocje' 'Wielkopolska'\n",
      " 'profilaktyka zdrowia' 'służby medyczne' 'służby ratunkowe'\n",
      " 'pozytywne myślenie' 'przemysł farmaceutyczny' 'Informatyka'\n",
      " 'powstanie wielkopolskie' 'Życzenia' 'Podsumowanie'\n",
      " 'infrastruktura medyczna' 'informatyzacja' 'zdrowe odżywianie'\n",
      " 'reforma psychiatrii dziecięcej' 'Niepodległość' 'Aktywność fizyczna'\n",
      " 'rozwój medycyny' 'aktywność fizyczna' 'medycyna' 'rehabilitacja' 'nauka'\n",
      " 'wojny' 'Edukacja medyczna' 'pierwsza pomoc' 'Topic' 'Sentiment'\n",
      " 'wołyńska zbrodnia' 'negacjonizm zbrodni wojennych' 'PO' 'zmiana klimatu'\n",
      " 'Platforma Obywatelska' 'śmieci' 'monopol' 'praca sezonowa'\n",
      " 'kontakt z bliskimi' 'pandemia' 'obrona polski' 'reprywatyzacja'\n",
      " 'prawa człowieka' '' 'prawa obywateli' 'pis' 'pandoragate'\n",
      " 'Inwestycje gospodarcze' 'immunitet' 'tusk' 'agnieszka holland'\n",
      " 'konwencja pis' 'cenzura' 'wolność słowa' 'platforma obywatelskako'\n",
      " 'Uganda' 'inwestycje miejskie' 'po' 'Kampania wyborcza' 'psl'\n",
      " 'Prawa obywateli' 'Stosunki międzynarodowe' 'program wyborczy' 'promocja'\n",
      " 'donald tusk' 'pakt migracyjny' 'posłanka' 'koalicja'\n",
      " 'kapitał zagraniczny' 'piłka nożna' 'prawica' 'manipulacja'\n",
      " 'afera wizowa' 'obietnice' 'inwestycje infrastrukturalne' 'reparacje'\n",
      " 'motywacja' 'współpraca gospodarcza' 'historia i kultura' 'kwiaty'\n",
      " 'Miasto' 'eutanazja' 'prawo' 'los warszawskich lokatorów'\n",
      " 'komisja weryfikacyjna' 'zakończenie koszmaru mieszkańców' 'Piłka nożna'\n",
      " 'Warsaw' 'mieszkanie+' 'muzeum żołnierzy wyklętych'\n",
      " 'rewitalizacja miejsca' 'rewitalizacja muzeum więźniów politycznych'\n",
      " 'literatura' 'kryzysy']\n"
     ]
    }
   ],
   "source": [
    "print(f\"Ilość tematów przed wyczyszczeniem: {len(df['topic'].unique())}\")\n",
    "print(df['topic'].unique())"
   ]
  },
  {
   "cell_type": "code",
   "execution_count": 1049,
   "metadata": {},
   "outputs": [],
   "source": [
    "df['topic'] = df['topic'].str.lower()\n",
    "\n",
    "df['topic'] = df['topic'].replace({'nieokreślony': pd.NA, \n",
    "                                    'undefined': pd.NA,\n",
    "                                    'unknown': pd.NA,\n",
    "                                    'none': pd.NA,\n",
    "                                    'null': pd.NA,\n",
    "                                    'neutral': pd.NA,\n",
    "                                    'inne': pd.NA,\n",
    "                                    'topic': pd.NA})\n",
    "\n",
    "\n",
    "df = df[~df['topic'].isna()]"
   ]
  },
  {
   "cell_type": "code",
   "execution_count": 1050,
   "metadata": {},
   "outputs": [
    {
     "name": "stdout",
     "output_type": "stream",
     "text": [
      "Ilość tematów po wyczyszczeniu: 580\n",
      "['ukraina' 'rząd' 'inflacja' 'sądownictwo' 'tvp' 'polityka' 'relokacja'\n",
      " 'prawa kobiet' 'podziękowanie' 'marihuana' 'wybory' 'transport publiczny'\n",
      " 'sport' 'patriotyzm' 'kampania wyborcza' 'prawa wyborcze' 'pojednanie'\n",
      " 'nfz' 'publiczna opieka zdrowotna' 'jedność' 'spotkanie' 'wośp' 'aborcja'\n",
      " 'lgbt' '500plus' 'edukacja seksualna' 'politics' 'przesądy' 'kościół'\n",
      " 'węgiel' 'unspecified' 'policja' 'pfr' 'wdzięczność' 'stany zjednoczone'\n",
      " 'cbos' 'frekwencja wyborcza' 'zdrowie' 'równość płac' 'reklama kampanii'\n",
      " 'czas' 'społeczeństwo' 'ekologia' 'covid' 'trójmiasto'\n",
      " 'inwestycje drogowe' 'feminizm' 'telekomunikacja' 'nieznany' 'miejsce'\n",
      " 'kraj' 'telefon' 'bezpieczeństwo' 'świeckie państwo' 'wojsko' 'emerytura'\n",
      " 'imigranci' 'polityka zagraniczna' 'przemoc' 'solidarność' 'personal'\n",
      " 'rekomendacja' 'nierówność majątkowa' 'wspólnota' 'polityczne'\n",
      " 'prawa zwierząt' 'prawo karne' 'brak tematu' 'telewizja publiczna'\n",
      " 'politycy' 'media' 'płot' 'poland' 'zwierzęta' 'las'\n",
      " 'demokracja bezpośrednia' 'referendum lubbezposredniopl' 'adres siedziby'\n",
      " 'partia polityczna' 'rozstrzygnięcie' 'in-vitro'\n",
      " 'granica polsko-białoruska' 'rosja' 'prawa obywatelskie' 'rządy'\n",
      " 'referendum' 'referenda' 'lewica' 'tvn' 'podatki'\n",
      " 'rejestracja partii politycznej' 'opozycja' 'platforma' 'polska polityka'\n",
      " 'prawo i sprawiedliwość' 'unia europejska' 'tusk' 'edukacja'\n",
      " 'lokalna półka' 'rząd pis' 'prywatyzacja' 'unidentified' 'finanse'\n",
      " 'infrastuktura drogowa' \"tusk's party\" 'donald tusk' 'ruch drogowy'\n",
      " 'polska' 'inwestycje lokalne' 'pamiętamy' 'święta wielkanocne'\n",
      " 'ochrona środowiska' 'polityka gospodarcza' 'żołnierze wyklęci' 'n/a'\n",
      " 'pamięć' 'obrona terytorialna' 'seniorzy' 'śmierć' 'reparationsforpoland'\n",
      " 'żołnierze' 'partia wolności' 'dyktatura' 'nato' 'służba bezpieczeństwa'\n",
      " 'służba w strukturach ochrony państwa' 'zbrojeniówka' 'kampanie wyborcze'\n",
      " 'tematy polityczne' 'prezydent andrzej duda' 'podziękowania' 'strażacy'\n",
      " 'wspólne ćwiczenia wojskowe' 'religia' 'eurowizja junior'\n",
      " 'wojsko polskie' 'pamięć historyczna' 'cud' 'szlachetnapaczka' 'usa'\n",
      " 'święto niepodległości' 'głosowanie' 'debata' 'pogoda' 'ruch społeczny'\n",
      " 'paliwa' 'stosunki międzynarodowe' 'rozrywka' 'demokracja' 'wolność'\n",
      " 'protest' 'nierówność płac' 'korupcja' 'środowisko' 'pis' 'general'\n",
      " 'miasta' 'mieszkanieplus' 'polityka lokalna' 'praca' 'umiejętności'\n",
      " 'samodoskonalenie' 'przemyt' 'spółki skarbu państwa'\n",
      " 'technologia komunikacyjna' 'prawa korporacyjne' 'siła i nadzieja'\n",
      " 'bezradna złość' 'konsultacje społeczne' 'pis (prawo i sprawiedliwość)'\n",
      " '800plus' 'samorządy' 'infrastruktura' 'prawo i sprawiedliwość (pis)'\n",
      " 'ogólne' 'reformy wyborcze' 'pisorgpl' 'suwerenność' 'zbrojenia'\n",
      " 'marynarka wojenna' 'siły zbrojne' 'ekonomia' 'ewakuacja'\n",
      " 'wojska obrony terytorialnej' 'służba zdrowia' 'inna'\n",
      " 'bezzałogowe statki powietrzne' 'bezpieczeństwo narodowe'\n",
      " 'granica polsko-słowacka' 'cyberbezpieczeństwo'\n",
      " 'współpraca międzynarodowa' 'współpraca wojskowa' 'polityka obronna'\n",
      " 'paliwo' 'spotkanie otwarte' 'kampania polityczna' 'prawa środowiskowe'\n",
      " 'kradzież' 'andrzej duda' 'zdrowie dzieci' 'zbieranie miodu'\n",
      " 'historia polski' 'przyszłość polski' 'polityczna koalicja'\n",
      " 'demokratyczna polska' 'doświadczenie' 'środowisko naturalne'\n",
      " 'polityka społeczna' 'bezrobocie' 'emigracja' 'rolnictwo' 'historia'\n",
      " 'sentiment' 'zus' 'ordynacja wyborcza' 'dezinformacja'\n",
      " 'życzenia rocznicowe' 'wojna' 'film' 'telewizja polska' 'rozczarowanie'\n",
      " 'puste serca' 'niemcy' 'partia platforma' 'zespół'\n",
      " 'rządowy program polski ład' 'porównanie' 'katastrofa naturalna'\n",
      " 'energia elektryczna' 'dyplomacja' 'prawa człowieka'\n",
      " 'brutalność polskiej policji' 'not applicable' 'przepraszanie'\n",
      " 'oppositionsfuhrer' 'platforma obywatelska' 'energia jądrowa'\n",
      " 'bezpiecznapolska' 'public safety' 'internet' 'bezpieczna polska'\n",
      " 'kultura' 'prawo i polityka' 'pamięć walczącym o wolną polskę'\n",
      " 'inwestycje' 'fejk' 'relacje polsko-niemieckie' 'prawa dzieci' 'sztuka'\n",
      " 'rządzenie lokalne' 'inwestycje infrastrukturalne'\n",
      " 'polskie pieśni patriotyczne' 'ochota do śpiewania' 'organizatorzy'\n",
      " 'inna tematyka' 'uroczystości' 'stosunki polsko-niemieckie'\n",
      " 'polityka obietnic' 'infrastruktura drogowa' 'bezpieczeństwo drogowe'\n",
      " 'innowacje technologiczne' 'śpiewanie w szczecinie' 'tradycja polska'\n",
      " 'gospodarka' 'rejestr wyborców' 'rozwój lokalny' 'rządowe inwestycje'\n",
      " 'energetyka' 'publiczne wsparcie' 'modernizacja targowiska' 'turystyka'\n",
      " 'infrastruktura sportowa' 'budowa świetlicy wiejskiej'\n",
      " 'parki i tereny rekreacyjne' 'wsparcie finansowe' 'finanse publiczne'\n",
      " 'tabletka dzień po' 'infrastruktura turystyczna' 'dofinansowania'\n",
      " 'fundacja wośp' 'inwestycja drogowa' 'rządy zjednoczonej prawicy'\n",
      " 'bezpieczeństwo państwa' 'sport/narodowa reprezentacja' 'nagroda filmowa'\n",
      " 'działalność społeczna' 'zaufanie' 'współpraca regionalna'\n",
      " 'rządowe wsparcie' 'inwestycje w infrastrukturę' 'inwestycje gospodarcze'\n",
      " 'renowacja zabytków' 'inwestycja lotnicza' 'manipulacje dezinformacja'\n",
      " 'ochotnicze jednostki straży pożarnej' 'urlop'\n",
      " 'pamięć prezydenta lecha kaczyńskiego' 'katastrofa smoleńska'\n",
      " 'pamięć ofiar katastrofy' 'inicjatywa społeczna' 'fundament projektu'\n",
      " 'publiczna debata' 'rozwoj polski i regionu' 'polityczne przekonania'\n",
      " 'lokalne inicjatywy' 'inwestycje strategiczne' 'samorządowcy'\n",
      " 'administracja publiczna' 'technologia' 'dożynki' 'wyróżnienia'\n",
      " 'święto plonów' 'dożynki gminne' 'święto pieroga' 'współpraca'\n",
      " 'miejsca turystyczne' 'gastronomia' 'tradycja dożynkowa' 'oszustwo'\n",
      " 'zabytki' 'ii wojna światowa' 'bohaterowie ii wojny światowej'\n",
      " 'bezpieczna przyszłość polaków' 'sprzedaż terenów lotniska'\n",
      " 'likwidacja lotniska' 'przeniesienie ruchu komercyjnego'\n",
      " 'sprzedaż gruntów' 'status prawny gruntów' 'samorząd' 'rozwoj' 'tradycje'\n",
      " 'perspektywy' 'bezpieczny budżet' 'rządy tuska' 'rządy pis'\n",
      " 'partycja rządząca' 'polska narodowość' 'negatywne emocje'\n",
      " 'święto wojska polskiego' 'powstanie warszawskie' 'gospodarka odpadowa'\n",
      " 'platforma_org' 'smutek' 'ochrona przyrody' 'rozwój regionalny'\n",
      " 'ochrona zabytków' 'publiczna współpraca' 'wyróżnienie' 'publiczna praca'\n",
      " 'gaza' 'armia' 'budżet' 'przemysł obronny' 'technologie'\n",
      " 'produkcja haubicy krab' 'produkcja pojazdów gąsienicowych w bumarze'\n",
      " 'program naprawczy dla bumaru' 'rząd pisorgpl' 'lublin'\n",
      " 'nadużycia finansowe' 'innowacje wojskowe' 'modernizacja armii'\n",
      " 'polish arms industry' 'propaganda' 'przemysł zbrojeniowy'\n",
      " 'wojskowe zakłady lotnicze' 'wojskowe pokazy' 'publiczne zamówienia'\n",
      " 'reforma systemu kierowania i dowodzenia' 'państwowe zakłady zbrojeniowe'\n",
      " 'rząd kaczyńskiego' 'zarząd pgz' 'zagrożenie środowiska'\n",
      " 'wojsk bezzałogowców' 'inwestycje wojskowe' 'przemysł'\n",
      " 'zakup okrętów podwodnych' 'politycy platformy obywatelskiej'\n",
      " 'politycy prawa i sprawiedliwości' 'negocjacje' 'zamówienia publiczne'\n",
      " 'wojna na ukrainie' 'obrona państwa' 'badania i rozwój' 'wspólnie'\n",
      " 'tradycja' 'siły zbrojne rp' 'kultura i tradycje'\n",
      " 'podwyżki dla pracowników wojska' 'bezpieczeństwo publiczne'\n",
      " 'motoryzacja' 'przetarg' 'filmy o mostach' 'teledysk zenka martyniuka'\n",
      " \"kabaret 'bambik'\" 'most otwarty przez morawieckiego'\n",
      " 'polskie systemy obrony powietrznej' 'polska artyleria samobieżna'\n",
      " 'zakupy zagranicznego sprzętu wojskowego' 'mesko' 'prawa pracownicze'\n",
      " 'offset' 'importy zbrojeniowe' 'kontrole w rolnictwie'\n",
      " 'produkcja modułu moździerzy rak' 'rolnicy' 'artyleria i drony'\n",
      " 'polska armia' 'narodowy program amunicyjny' 'obronność' 'drony'\n",
      " 'inwestycje zagraniczne' 'eksport sprzętu wojskowego'\n",
      " 'bezpieczeństwo żywnościowe' 'rządy pisorgpl' 'mma'\n",
      " 'konflikt na ukrainie' 'broń' 'inny'\n",
      " 'wojskowa baza lotnictwa transportowego' 'prywatność/internet'\n",
      " 'wojna pancerna' 'wozy bojowe' 'zbrojeniowe' 'produkcja czołgów'\n",
      " 'potencjał obronny' 'bumar łabędy' 'kontrola' 'programy obronne'\n",
      " 'programy rządowe' 'polska grupa zbrojeniowa (pgz)' 'krab' 'hsw'\n",
      " 'przetargi' 'mblaszczak' 'polski ład dla rolników'\n",
      " 'podwyżki dopłat bezpośrednich' 'obrona' 'handel zagraniczny'\n",
      " 'rządu platforma_org' 'nowepsl' 'prawa zamówień publicznych'\n",
      " 'kontrola spółek państwowych' 'zakłady zbrojeniowe'\n",
      " 'zagraniczna polityka' 'loty' 'stosunki polsko-ukraińskie'\n",
      " 'lider opozycji' 'waloryzacja' 'biurokracja' 'francja'\n",
      " 'redukowanie biurokracji' 'przedsiębiorcy' 'wołyń' 'rynek pracy'\n",
      " 'przedsiębiorczość' 'deregulacja' 'charytatywny mecz' 'pomoc dla dzieci'\n",
      " 'prawa gospodarcze' 'rozwój polski'\n",
      " 'rozwoj społeczny budownictwa mieszkaniowego'\n",
      " 'rozwiązywanie problemów polski „powiatowo-gminnej”' 'czyste powietrze'\n",
      " 'procedury administracyjne' 'rozwoj polski' 'rządzenie' 'onkologia'\n",
      " 'służby ratownicze' 'wypadek' 'służby'\n",
      " 'reforma systemu kształcenia lekarzy' 'recepty internetowe' 'receptomaty'\n",
      " 'profilaktyka' 'nieznany temat' 'prawa pacjenta' 'transport'\n",
      " 'edukacja medyczna' 'gospodarka lokalna' 'społeczność lokalna'\n",
      " 'rząd morawieckiego' 'szczepienia' 'solidarity'\n",
      " 'international cooperation' 'conflict with russia' 'fifa'\n",
      " 'inspirujący cytat' 'nowy ogród w tomyślu'\n",
      " 'gratulacje za nową przestrzeń społeczną' 'spotkania i dyskusje'\n",
      " 'lokalna społeczność' 'public health' 'społeczeństwo i państwo'\n",
      " 'wielkopolska' 'katastrofa' 'pomoc' 'ochrona zdrowia' 'wspieranie'\n",
      " 'nieprzypisane' 'narodowy dzień żołnierzy wyklętych'\n",
      " 'podziemie niepodległościowe' 'pomoc medyczna' 'danuta siedzikówna'\n",
      " 'rebuilding and medical equipment' 'ukraine' 'emocje'\n",
      " 'profilaktyka zdrowia' 'służby medyczne' 'służby ratunkowe'\n",
      " 'pozytywne myślenie' 'przemysł farmaceutyczny' 'informatyka'\n",
      " 'powstanie wielkopolskie' 'życzenia' 'podsumowanie'\n",
      " 'infrastruktura medyczna' 'informatyzacja' 'zdrowe odżywianie'\n",
      " 'reforma psychiatrii dziecięcej' 'niepodległość' 'aktywność fizyczna'\n",
      " 'rozwój medycyny' 'medycyna' 'rehabilitacja' 'nauka' 'wojny'\n",
      " 'pierwsza pomoc' 'wołyńska zbrodnia' 'negacjonizm zbrodni wojennych' 'po'\n",
      " 'zmiana klimatu' 'śmieci' 'monopol' 'praca sezonowa' 'kontakt z bliskimi'\n",
      " 'pandemia' 'obrona polski' 'reprywatyzacja' '' 'prawa obywateli'\n",
      " 'pandoragate' 'immunitet' 'agnieszka holland' 'konwencja pis' 'cenzura'\n",
      " 'wolność słowa' 'platforma obywatelskako' 'uganda' 'inwestycje miejskie'\n",
      " 'psl' 'program wyborczy' 'promocja' 'pakt migracyjny' 'posłanka'\n",
      " 'koalicja' 'kapitał zagraniczny' 'piłka nożna' 'prawica' 'manipulacja'\n",
      " 'afera wizowa' 'obietnice' 'reparacje' 'motywacja'\n",
      " 'współpraca gospodarcza' 'historia i kultura' 'kwiaty' 'miasto'\n",
      " 'eutanazja' 'prawo' 'los warszawskich lokatorów' 'komisja weryfikacyjna'\n",
      " 'zakończenie koszmaru mieszkańców' 'warsaw' 'mieszkanie+'\n",
      " 'muzeum żołnierzy wyklętych' 'rewitalizacja miejsca'\n",
      " 'rewitalizacja muzeum więźniów politycznych' 'literatura' 'kryzysy']\n"
     ]
    }
   ],
   "source": [
    "print(f\"Ilość tematów po wyczyszczeniu: {len(df['topic'].unique())}\")\n",
    "print(df['topic'].unique())"
   ]
  },
  {
   "cell_type": "code",
   "execution_count": 1051,
   "metadata": {},
   "outputs": [
    {
     "data": {
      "text/html": [
       "<div>\n",
       "<style scoped>\n",
       "    .dataframe tbody tr th:only-of-type {\n",
       "        vertical-align: middle;\n",
       "    }\n",
       "\n",
       "    .dataframe tbody tr th {\n",
       "        vertical-align: top;\n",
       "    }\n",
       "\n",
       "    .dataframe thead th {\n",
       "        text-align: right;\n",
       "    }\n",
       "</style>\n",
       "<table border=\"1\" class=\"dataframe\">\n",
       "  <thead>\n",
       "    <tr style=\"text-align: left;\">\n",
       "      <th></th>\n",
       "      <th>topic</th>\n",
       "      <th>topic_count</th>\n",
       "    </tr>\n",
       "  </thead>\n",
       "  <tbody>\n",
       "    <tr>\n",
       "      <th>468</th>\n",
       "      <td>sądownictwo</td>\n",
       "      <td>421</td>\n",
       "    </tr>\n",
       "    <tr>\n",
       "      <th>287</th>\n",
       "      <td>polityka</td>\n",
       "      <td>325</td>\n",
       "    </tr>\n",
       "    <tr>\n",
       "      <th>393</th>\n",
       "      <td>relokacja</td>\n",
       "      <td>205</td>\n",
       "    </tr>\n",
       "    <tr>\n",
       "      <th>368</th>\n",
       "      <td>publiczna opieka zdrowotna</td>\n",
       "      <td>201</td>\n",
       "    </tr>\n",
       "    <tr>\n",
       "      <th>502</th>\n",
       "      <td>unia europejska</td>\n",
       "      <td>197</td>\n",
       "    </tr>\n",
       "    <tr>\n",
       "      <th>105</th>\n",
       "      <td>inflacja</td>\n",
       "      <td>197</td>\n",
       "    </tr>\n",
       "    <tr>\n",
       "      <th>317</th>\n",
       "      <td>prawa kobiet</td>\n",
       "      <td>170</td>\n",
       "    </tr>\n",
       "    <tr>\n",
       "      <th>518</th>\n",
       "      <td>wojsko</td>\n",
       "      <td>142</td>\n",
       "    </tr>\n",
       "    <tr>\n",
       "      <th>91</th>\n",
       "      <td>granica polsko-białoruska</td>\n",
       "      <td>141</td>\n",
       "    </tr>\n",
       "    <tr>\n",
       "      <th>418</th>\n",
       "      <td>rząd</td>\n",
       "      <td>126</td>\n",
       "    </tr>\n",
       "  </tbody>\n",
       "</table>\n",
       "</div>"
      ],
      "text/plain": [
       "    topic                        topic_count\n",
       "468                 sądownictwo  421        \n",
       "287                    polityka  325        \n",
       "393                   relokacja  205        \n",
       "368  publiczna opieka zdrowotna  201        \n",
       "502             unia europejska  197        \n",
       "105                    inflacja  197        \n",
       "317                prawa kobiet  170        \n",
       "518                      wojsko  142        \n",
       "91    granica polsko-białoruska  141        \n",
       "418                        rząd  126        "
      ]
     },
     "execution_count": 1051,
     "metadata": {},
     "output_type": "execute_result"
    }
   ],
   "source": [
    "topic_counts = df.groupby(by='topic').size().reset_index(name='topic_count')\n",
    "\n",
    "\n",
    "topic_counts.sort_values(by='topic_count', ascending=False).head(10)"
   ]
  },
  {
   "cell_type": "code",
   "execution_count": 1052,
   "metadata": {},
   "outputs": [
    {
     "data": {
      "text/html": [
       "<div>\n",
       "<style scoped>\n",
       "    .dataframe tbody tr th:only-of-type {\n",
       "        vertical-align: middle;\n",
       "    }\n",
       "\n",
       "    .dataframe tbody tr th {\n",
       "        vertical-align: top;\n",
       "    }\n",
       "\n",
       "    .dataframe thead th {\n",
       "        text-align: right;\n",
       "    }\n",
       "</style>\n",
       "<table border=\"1\" class=\"dataframe\">\n",
       "  <thead>\n",
       "    <tr style=\"text-align: left;\">\n",
       "      <th></th>\n",
       "      <th>topic</th>\n",
       "      <th>topic_count</th>\n",
       "    </tr>\n",
       "  </thead>\n",
       "  <tbody>\n",
       "    <tr>\n",
       "      <th>468</th>\n",
       "      <td>sądownictwo</td>\n",
       "      <td>421</td>\n",
       "    </tr>\n",
       "    <tr>\n",
       "      <th>287</th>\n",
       "      <td>polityka</td>\n",
       "      <td>325</td>\n",
       "    </tr>\n",
       "    <tr>\n",
       "      <th>393</th>\n",
       "      <td>relokacja</td>\n",
       "      <td>205</td>\n",
       "    </tr>\n",
       "    <tr>\n",
       "      <th>368</th>\n",
       "      <td>publiczna opieka zdrowotna</td>\n",
       "      <td>201</td>\n",
       "    </tr>\n",
       "    <tr>\n",
       "      <th>502</th>\n",
       "      <td>unia europejska</td>\n",
       "      <td>197</td>\n",
       "    </tr>\n",
       "    <tr>\n",
       "      <th>...</th>\n",
       "      <td>...</td>\n",
       "      <td>...</td>\n",
       "    </tr>\n",
       "    <tr>\n",
       "      <th>201</th>\n",
       "      <td>nato</td>\n",
       "      <td>6</td>\n",
       "    </tr>\n",
       "    <tr>\n",
       "      <th>267</th>\n",
       "      <td>po</td>\n",
       "      <td>6</td>\n",
       "    </tr>\n",
       "    <tr>\n",
       "      <th>291</th>\n",
       "      <td>polityka obronna</td>\n",
       "      <td>6</td>\n",
       "    </tr>\n",
       "    <tr>\n",
       "      <th>327</th>\n",
       "      <td>prawica</td>\n",
       "      <td>5</td>\n",
       "    </tr>\n",
       "    <tr>\n",
       "      <th>374</th>\n",
       "      <td>płot</td>\n",
       "      <td>5</td>\n",
       "    </tr>\n",
       "  </tbody>\n",
       "</table>\n",
       "<p>100 rows × 2 columns</p>\n",
       "</div>"
      ],
      "text/plain": [
       "    topic                        topic_count\n",
       "468                 sądownictwo  421        \n",
       "287                    polityka  325        \n",
       "393                   relokacja  205        \n",
       "368  publiczna opieka zdrowotna  201        \n",
       "502             unia europejska  197        \n",
       "..                          ...          ...\n",
       "201                        nato    6        \n",
       "267                          po    6        \n",
       "291            polityka obronna    6        \n",
       "327                     prawica    5        \n",
       "374                        płot    5        \n",
       "\n",
       "[100 rows x 2 columns]"
      ]
     },
     "execution_count": 1052,
     "metadata": {},
     "output_type": "execute_result"
    }
   ],
   "source": [
    "topic_counts = df.groupby(by='topic').size().reset_index(name='topic_count')\n",
    "\n",
    "topic_counts_top100 = topic_counts.sort_values(by='topic_count', ascending=False).head(100)\n",
    "topic_counts_top100"
   ]
  },
  {
   "cell_type": "code",
   "execution_count": 1053,
   "metadata": {},
   "outputs": [
    {
     "data": {
      "application/vnd.plotly.v1+json": {
       "config": {
        "plotlyServerURL": "https://plot.ly"
       },
       "data": [
        {
         "alignmentgroup": "True",
         "hovertemplate": "topic=%{x}<br>Count=%{y}<extra></extra>",
         "legendgroup": "",
         "marker": {
          "color": "#636efa",
          "pattern": {
           "shape": ""
          }
         },
         "name": "",
         "offsetgroup": "",
         "orientation": "v",
         "showlegend": false,
         "textposition": "auto",
         "type": "bar",
         "x": [
          "sądownictwo",
          "polityka",
          "relokacja",
          "publiczna opieka zdrowotna",
          "unia europejska",
          "inflacja",
          "prawa kobiet",
          "wojsko",
          "granica polsko-białoruska",
          "rząd",
          "covid",
          "imigranci",
          "rosja",
          "ukraina",
          "tvp",
          "polityka zagraniczna",
          "społeczeństwo",
          "równość płac",
          "500plus",
          "emerytura",
          "węgiel",
          "podatki",
          "patriotyzm",
          "opozycja",
          "referendum",
          "bezpieczeństwo narodowe",
          "tusk",
          "media",
          "wojsko polskie",
          "inwestycje",
          "inwestycje infrastrukturalne",
          "edukacja",
          "kampania wyborcza",
          "prawa obywateli",
          "usa",
          "stany zjednoczone",
          "aborcja",
          "kościół",
          "wybory",
          "korupcja",
          "edukacja seksualna",
          "sport",
          "gospodarka",
          "przemysł zbrojeniowy",
          "nfz",
          "rolnictwo",
          "bezpieczeństwo",
          "polska",
          "800plus",
          "",
          "pis",
          "inwestycje drogowe",
          "praca",
          "platforma",
          "przemysł",
          "prawa człowieka",
          "tvn",
          "bezrobocie",
          "policja",
          "telewizja publiczna",
          "stosunki międzynarodowe",
          "feminizm",
          "finanse",
          "wojna",
          "platforma obywatelska",
          "zdrowie",
          "powstanie warszawskie",
          "reprywatyzacja",
          "finanse publiczne",
          "armia",
          "historia",
          "prywatyzacja",
          "brak tematu",
          "rejestr wyborców",
          "tabletka dzień po",
          "in-vitro",
          "rząd pis",
          "rządowe inwestycje",
          "solidarność",
          "modernizacja armii",
          "siły zbrojne",
          "inwestycje gospodarcze",
          "sentiment",
          "lgbt",
          "marihuana",
          "obronność",
          "zbrojenia",
          "środowisko",
          "religia",
          "donald tusk",
          "rewitalizacja muzeum więźniów politycznych",
          "transport publiczny",
          "zus",
          "infrastruktura",
          "psl",
          "nato",
          "po",
          "polityka obronna",
          "prawica",
          "płot"
         ],
         "xaxis": "x",
         "y": [
          421,
          325,
          205,
          201,
          197,
          197,
          170,
          142,
          141,
          126,
          120,
          120,
          118,
          110,
          100,
          79,
          71,
          64,
          56,
          55,
          54,
          47,
          46,
          46,
          46,
          41,
          39,
          38,
          36,
          35,
          32,
          32,
          31,
          29,
          29,
          28,
          28,
          27,
          27,
          26,
          24,
          22,
          20,
          20,
          20,
          20,
          19,
          18,
          17,
          16,
          16,
          15,
          15,
          15,
          14,
          14,
          14,
          13,
          13,
          13,
          12,
          11,
          10,
          10,
          10,
          10,
          10,
          9,
          9,
          8,
          8,
          8,
          8,
          8,
          8,
          8,
          8,
          7,
          7,
          7,
          7,
          7,
          7,
          7,
          7,
          7,
          7,
          7,
          6,
          6,
          6,
          6,
          6,
          6,
          6,
          6,
          6,
          6,
          5,
          5
         ],
         "yaxis": "y"
        }
       ],
       "layout": {
        "barmode": "relative",
        "legend": {
         "tracegroupgap": 0
        },
        "template": {
         "data": {
          "bar": [
           {
            "error_x": {
             "color": "#2a3f5f"
            },
            "error_y": {
             "color": "#2a3f5f"
            },
            "marker": {
             "line": {
              "color": "#E5ECF6",
              "width": 0.5
             },
             "pattern": {
              "fillmode": "overlay",
              "size": 10,
              "solidity": 0.2
             }
            },
            "type": "bar"
           }
          ],
          "barpolar": [
           {
            "marker": {
             "line": {
              "color": "#E5ECF6",
              "width": 0.5
             },
             "pattern": {
              "fillmode": "overlay",
              "size": 10,
              "solidity": 0.2
             }
            },
            "type": "barpolar"
           }
          ],
          "carpet": [
           {
            "aaxis": {
             "endlinecolor": "#2a3f5f",
             "gridcolor": "white",
             "linecolor": "white",
             "minorgridcolor": "white",
             "startlinecolor": "#2a3f5f"
            },
            "baxis": {
             "endlinecolor": "#2a3f5f",
             "gridcolor": "white",
             "linecolor": "white",
             "minorgridcolor": "white",
             "startlinecolor": "#2a3f5f"
            },
            "type": "carpet"
           }
          ],
          "choropleth": [
           {
            "colorbar": {
             "outlinewidth": 0,
             "ticks": ""
            },
            "type": "choropleth"
           }
          ],
          "contour": [
           {
            "colorbar": {
             "outlinewidth": 0,
             "ticks": ""
            },
            "colorscale": [
             [
              0,
              "#0d0887"
             ],
             [
              0.1111111111111111,
              "#46039f"
             ],
             [
              0.2222222222222222,
              "#7201a8"
             ],
             [
              0.3333333333333333,
              "#9c179e"
             ],
             [
              0.4444444444444444,
              "#bd3786"
             ],
             [
              0.5555555555555556,
              "#d8576b"
             ],
             [
              0.6666666666666666,
              "#ed7953"
             ],
             [
              0.7777777777777778,
              "#fb9f3a"
             ],
             [
              0.8888888888888888,
              "#fdca26"
             ],
             [
              1,
              "#f0f921"
             ]
            ],
            "type": "contour"
           }
          ],
          "contourcarpet": [
           {
            "colorbar": {
             "outlinewidth": 0,
             "ticks": ""
            },
            "type": "contourcarpet"
           }
          ],
          "heatmap": [
           {
            "colorbar": {
             "outlinewidth": 0,
             "ticks": ""
            },
            "colorscale": [
             [
              0,
              "#0d0887"
             ],
             [
              0.1111111111111111,
              "#46039f"
             ],
             [
              0.2222222222222222,
              "#7201a8"
             ],
             [
              0.3333333333333333,
              "#9c179e"
             ],
             [
              0.4444444444444444,
              "#bd3786"
             ],
             [
              0.5555555555555556,
              "#d8576b"
             ],
             [
              0.6666666666666666,
              "#ed7953"
             ],
             [
              0.7777777777777778,
              "#fb9f3a"
             ],
             [
              0.8888888888888888,
              "#fdca26"
             ],
             [
              1,
              "#f0f921"
             ]
            ],
            "type": "heatmap"
           }
          ],
          "heatmapgl": [
           {
            "colorbar": {
             "outlinewidth": 0,
             "ticks": ""
            },
            "colorscale": [
             [
              0,
              "#0d0887"
             ],
             [
              0.1111111111111111,
              "#46039f"
             ],
             [
              0.2222222222222222,
              "#7201a8"
             ],
             [
              0.3333333333333333,
              "#9c179e"
             ],
             [
              0.4444444444444444,
              "#bd3786"
             ],
             [
              0.5555555555555556,
              "#d8576b"
             ],
             [
              0.6666666666666666,
              "#ed7953"
             ],
             [
              0.7777777777777778,
              "#fb9f3a"
             ],
             [
              0.8888888888888888,
              "#fdca26"
             ],
             [
              1,
              "#f0f921"
             ]
            ],
            "type": "heatmapgl"
           }
          ],
          "histogram": [
           {
            "marker": {
             "pattern": {
              "fillmode": "overlay",
              "size": 10,
              "solidity": 0.2
             }
            },
            "type": "histogram"
           }
          ],
          "histogram2d": [
           {
            "colorbar": {
             "outlinewidth": 0,
             "ticks": ""
            },
            "colorscale": [
             [
              0,
              "#0d0887"
             ],
             [
              0.1111111111111111,
              "#46039f"
             ],
             [
              0.2222222222222222,
              "#7201a8"
             ],
             [
              0.3333333333333333,
              "#9c179e"
             ],
             [
              0.4444444444444444,
              "#bd3786"
             ],
             [
              0.5555555555555556,
              "#d8576b"
             ],
             [
              0.6666666666666666,
              "#ed7953"
             ],
             [
              0.7777777777777778,
              "#fb9f3a"
             ],
             [
              0.8888888888888888,
              "#fdca26"
             ],
             [
              1,
              "#f0f921"
             ]
            ],
            "type": "histogram2d"
           }
          ],
          "histogram2dcontour": [
           {
            "colorbar": {
             "outlinewidth": 0,
             "ticks": ""
            },
            "colorscale": [
             [
              0,
              "#0d0887"
             ],
             [
              0.1111111111111111,
              "#46039f"
             ],
             [
              0.2222222222222222,
              "#7201a8"
             ],
             [
              0.3333333333333333,
              "#9c179e"
             ],
             [
              0.4444444444444444,
              "#bd3786"
             ],
             [
              0.5555555555555556,
              "#d8576b"
             ],
             [
              0.6666666666666666,
              "#ed7953"
             ],
             [
              0.7777777777777778,
              "#fb9f3a"
             ],
             [
              0.8888888888888888,
              "#fdca26"
             ],
             [
              1,
              "#f0f921"
             ]
            ],
            "type": "histogram2dcontour"
           }
          ],
          "mesh3d": [
           {
            "colorbar": {
             "outlinewidth": 0,
             "ticks": ""
            },
            "type": "mesh3d"
           }
          ],
          "parcoords": [
           {
            "line": {
             "colorbar": {
              "outlinewidth": 0,
              "ticks": ""
             }
            },
            "type": "parcoords"
           }
          ],
          "pie": [
           {
            "automargin": true,
            "type": "pie"
           }
          ],
          "scatter": [
           {
            "fillpattern": {
             "fillmode": "overlay",
             "size": 10,
             "solidity": 0.2
            },
            "type": "scatter"
           }
          ],
          "scatter3d": [
           {
            "line": {
             "colorbar": {
              "outlinewidth": 0,
              "ticks": ""
             }
            },
            "marker": {
             "colorbar": {
              "outlinewidth": 0,
              "ticks": ""
             }
            },
            "type": "scatter3d"
           }
          ],
          "scattercarpet": [
           {
            "marker": {
             "colorbar": {
              "outlinewidth": 0,
              "ticks": ""
             }
            },
            "type": "scattercarpet"
           }
          ],
          "scattergeo": [
           {
            "marker": {
             "colorbar": {
              "outlinewidth": 0,
              "ticks": ""
             }
            },
            "type": "scattergeo"
           }
          ],
          "scattergl": [
           {
            "marker": {
             "colorbar": {
              "outlinewidth": 0,
              "ticks": ""
             }
            },
            "type": "scattergl"
           }
          ],
          "scattermapbox": [
           {
            "marker": {
             "colorbar": {
              "outlinewidth": 0,
              "ticks": ""
             }
            },
            "type": "scattermapbox"
           }
          ],
          "scatterpolar": [
           {
            "marker": {
             "colorbar": {
              "outlinewidth": 0,
              "ticks": ""
             }
            },
            "type": "scatterpolar"
           }
          ],
          "scatterpolargl": [
           {
            "marker": {
             "colorbar": {
              "outlinewidth": 0,
              "ticks": ""
             }
            },
            "type": "scatterpolargl"
           }
          ],
          "scatterternary": [
           {
            "marker": {
             "colorbar": {
              "outlinewidth": 0,
              "ticks": ""
             }
            },
            "type": "scatterternary"
           }
          ],
          "surface": [
           {
            "colorbar": {
             "outlinewidth": 0,
             "ticks": ""
            },
            "colorscale": [
             [
              0,
              "#0d0887"
             ],
             [
              0.1111111111111111,
              "#46039f"
             ],
             [
              0.2222222222222222,
              "#7201a8"
             ],
             [
              0.3333333333333333,
              "#9c179e"
             ],
             [
              0.4444444444444444,
              "#bd3786"
             ],
             [
              0.5555555555555556,
              "#d8576b"
             ],
             [
              0.6666666666666666,
              "#ed7953"
             ],
             [
              0.7777777777777778,
              "#fb9f3a"
             ],
             [
              0.8888888888888888,
              "#fdca26"
             ],
             [
              1,
              "#f0f921"
             ]
            ],
            "type": "surface"
           }
          ],
          "table": [
           {
            "cells": {
             "fill": {
              "color": "#EBF0F8"
             },
             "line": {
              "color": "white"
             }
            },
            "header": {
             "fill": {
              "color": "#C8D4E3"
             },
             "line": {
              "color": "white"
             }
            },
            "type": "table"
           }
          ]
         },
         "layout": {
          "annotationdefaults": {
           "arrowcolor": "#2a3f5f",
           "arrowhead": 0,
           "arrowwidth": 1
          },
          "autotypenumbers": "strict",
          "coloraxis": {
           "colorbar": {
            "outlinewidth": 0,
            "ticks": ""
           }
          },
          "colorscale": {
           "diverging": [
            [
             0,
             "#8e0152"
            ],
            [
             0.1,
             "#c51b7d"
            ],
            [
             0.2,
             "#de77ae"
            ],
            [
             0.3,
             "#f1b6da"
            ],
            [
             0.4,
             "#fde0ef"
            ],
            [
             0.5,
             "#f7f7f7"
            ],
            [
             0.6,
             "#e6f5d0"
            ],
            [
             0.7,
             "#b8e186"
            ],
            [
             0.8,
             "#7fbc41"
            ],
            [
             0.9,
             "#4d9221"
            ],
            [
             1,
             "#276419"
            ]
           ],
           "sequential": [
            [
             0,
             "#0d0887"
            ],
            [
             0.1111111111111111,
             "#46039f"
            ],
            [
             0.2222222222222222,
             "#7201a8"
            ],
            [
             0.3333333333333333,
             "#9c179e"
            ],
            [
             0.4444444444444444,
             "#bd3786"
            ],
            [
             0.5555555555555556,
             "#d8576b"
            ],
            [
             0.6666666666666666,
             "#ed7953"
            ],
            [
             0.7777777777777778,
             "#fb9f3a"
            ],
            [
             0.8888888888888888,
             "#fdca26"
            ],
            [
             1,
             "#f0f921"
            ]
           ],
           "sequentialminus": [
            [
             0,
             "#0d0887"
            ],
            [
             0.1111111111111111,
             "#46039f"
            ],
            [
             0.2222222222222222,
             "#7201a8"
            ],
            [
             0.3333333333333333,
             "#9c179e"
            ],
            [
             0.4444444444444444,
             "#bd3786"
            ],
            [
             0.5555555555555556,
             "#d8576b"
            ],
            [
             0.6666666666666666,
             "#ed7953"
            ],
            [
             0.7777777777777778,
             "#fb9f3a"
            ],
            [
             0.8888888888888888,
             "#fdca26"
            ],
            [
             1,
             "#f0f921"
            ]
           ]
          },
          "colorway": [
           "#636efa",
           "#EF553B",
           "#00cc96",
           "#ab63fa",
           "#FFA15A",
           "#19d3f3",
           "#FF6692",
           "#B6E880",
           "#FF97FF",
           "#FECB52"
          ],
          "font": {
           "color": "#2a3f5f"
          },
          "geo": {
           "bgcolor": "white",
           "lakecolor": "white",
           "landcolor": "#E5ECF6",
           "showlakes": true,
           "showland": true,
           "subunitcolor": "white"
          },
          "hoverlabel": {
           "align": "left"
          },
          "hovermode": "closest",
          "mapbox": {
           "style": "light"
          },
          "paper_bgcolor": "white",
          "plot_bgcolor": "#E5ECF6",
          "polar": {
           "angularaxis": {
            "gridcolor": "white",
            "linecolor": "white",
            "ticks": ""
           },
           "bgcolor": "#E5ECF6",
           "radialaxis": {
            "gridcolor": "white",
            "linecolor": "white",
            "ticks": ""
           }
          },
          "scene": {
           "xaxis": {
            "backgroundcolor": "#E5ECF6",
            "gridcolor": "white",
            "gridwidth": 2,
            "linecolor": "white",
            "showbackground": true,
            "ticks": "",
            "zerolinecolor": "white"
           },
           "yaxis": {
            "backgroundcolor": "#E5ECF6",
            "gridcolor": "white",
            "gridwidth": 2,
            "linecolor": "white",
            "showbackground": true,
            "ticks": "",
            "zerolinecolor": "white"
           },
           "zaxis": {
            "backgroundcolor": "#E5ECF6",
            "gridcolor": "white",
            "gridwidth": 2,
            "linecolor": "white",
            "showbackground": true,
            "ticks": "",
            "zerolinecolor": "white"
           }
          },
          "shapedefaults": {
           "line": {
            "color": "#2a3f5f"
           }
          },
          "ternary": {
           "aaxis": {
            "gridcolor": "white",
            "linecolor": "white",
            "ticks": ""
           },
           "baxis": {
            "gridcolor": "white",
            "linecolor": "white",
            "ticks": ""
           },
           "bgcolor": "#E5ECF6",
           "caxis": {
            "gridcolor": "white",
            "linecolor": "white",
            "ticks": ""
           }
          },
          "title": {
           "x": 0.05
          },
          "xaxis": {
           "automargin": true,
           "gridcolor": "white",
           "linecolor": "white",
           "ticks": "",
           "title": {
            "standoff": 15
           },
           "zerolinecolor": "white",
           "zerolinewidth": 2
          },
          "yaxis": {
           "automargin": true,
           "gridcolor": "white",
           "linecolor": "white",
           "ticks": "",
           "title": {
            "standoff": 15
           },
           "zerolinecolor": "white",
           "zerolinewidth": 2
          }
         }
        },
        "title": {
         "text": "Topic Counts Histogram"
        },
        "xaxis": {
         "anchor": "y",
         "domain": [
          0,
          1
         ],
         "title": {
          "text": "topic"
         }
        },
        "yaxis": {
         "anchor": "x",
         "domain": [
          0,
          1
         ],
         "title": {
          "text": "Count"
         }
        }
       }
      }
     },
     "metadata": {},
     "output_type": "display_data"
    }
   ],
   "source": [
    "import plotly.express as px\n",
    "\n",
    "\n",
    "fig = px.bar(topic_counts_top100, x='topic', y='topic_count', labels={'topic_count': 'Count'}, title='Topic Counts Histogram')\n",
    "\n",
    "# Show the plot\n",
    "fig.show()"
   ]
  },
  {
   "cell_type": "markdown",
   "metadata": {},
   "source": [
    "### sentyment"
   ]
  },
  {
   "cell_type": "code",
   "execution_count": 1054,
   "metadata": {},
   "outputs": [
    {
     "data": {
      "text/plain": [
       "array(['positive', 'neutral', 'Neutral', 'negative', 'neutralny',\n",
       "       'pozytywny', 'negatywny', 'Positive', 'Negative', 'unknown', 'N/A',\n",
       "       'Pozytywny', '', 'Neutralny', 'none'], dtype=object)"
      ]
     },
     "execution_count": 1054,
     "metadata": {},
     "output_type": "execute_result"
    }
   ],
   "source": [
    "df['sentiment'].unique()"
   ]
  },
  {
   "cell_type": "code",
   "execution_count": 1055,
   "metadata": {},
   "outputs": [
    {
     "data": {
      "text/plain": [
       "array(['positive', 'neutral', 'negative', 'unknown'], dtype=object)"
      ]
     },
     "execution_count": 1055,
     "metadata": {},
     "output_type": "execute_result"
    }
   ],
   "source": [
    "df['sentiment'] = df['sentiment'].str.lower()\n",
    "\n",
    "df['sentiment'] = df['sentiment'].replace({'pozytywny': 'positive', \n",
    "                                           'negatywny': 'negative', \n",
    "                                           'neutralny': 'neutral',\n",
    "                                           'none': 'neutral',\n",
    "                                           'n/a': 'neutral',\n",
    "                                           'null': 'neutral',\n",
    "                                           'undefined': 'unknown',\n",
    "                                           'sentiment': 'unknown',\n",
    "                                           '': 'unknown'})\n",
    "df['sentiment'].unique()"
   ]
  },
  {
   "cell_type": "code",
   "execution_count": 1056,
   "metadata": {},
   "outputs": [
    {
     "data": {
      "text/html": [
       "<div>\n",
       "<style scoped>\n",
       "    .dataframe tbody tr th:only-of-type {\n",
       "        vertical-align: middle;\n",
       "    }\n",
       "\n",
       "    .dataframe tbody tr th {\n",
       "        vertical-align: top;\n",
       "    }\n",
       "\n",
       "    .dataframe thead th {\n",
       "        text-align: right;\n",
       "    }\n",
       "</style>\n",
       "<table border=\"1\" class=\"dataframe\">\n",
       "  <thead>\n",
       "    <tr style=\"text-align: left;\">\n",
       "      <th></th>\n",
       "      <th>tweet_id</th>\n",
       "      <th>username</th>\n",
       "      <th>date</th>\n",
       "      <th>text_all</th>\n",
       "      <th>text</th>\n",
       "      <th>topic</th>\n",
       "    </tr>\n",
       "    <tr>\n",
       "      <th>sentiment</th>\n",
       "      <th></th>\n",
       "      <th></th>\n",
       "      <th></th>\n",
       "      <th></th>\n",
       "      <th></th>\n",
       "      <th></th>\n",
       "    </tr>\n",
       "  </thead>\n",
       "  <tbody>\n",
       "    <tr>\n",
       "      <th>negative</th>\n",
       "      <td>1679</td>\n",
       "      <td>1679</td>\n",
       "      <td>1679</td>\n",
       "      <td>1679</td>\n",
       "      <td>1679</td>\n",
       "      <td>1679</td>\n",
       "    </tr>\n",
       "    <tr>\n",
       "      <th>neutral</th>\n",
       "      <td>1713</td>\n",
       "      <td>1713</td>\n",
       "      <td>1713</td>\n",
       "      <td>1713</td>\n",
       "      <td>1713</td>\n",
       "      <td>1713</td>\n",
       "    </tr>\n",
       "    <tr>\n",
       "      <th>positive</th>\n",
       "      <td>1715</td>\n",
       "      <td>1715</td>\n",
       "      <td>1715</td>\n",
       "      <td>1715</td>\n",
       "      <td>1715</td>\n",
       "      <td>1715</td>\n",
       "    </tr>\n",
       "    <tr>\n",
       "      <th>unknown</th>\n",
       "      <td>18</td>\n",
       "      <td>18</td>\n",
       "      <td>18</td>\n",
       "      <td>18</td>\n",
       "      <td>18</td>\n",
       "      <td>18</td>\n",
       "    </tr>\n",
       "  </tbody>\n",
       "</table>\n",
       "</div>"
      ],
      "text/plain": [
       "           tweet_id  username  date  text_all  text  topic\n",
       "sentiment                                                 \n",
       "negative   1679      1679      1679  1679      1679  1679 \n",
       "neutral    1713      1713      1713  1713      1713  1713 \n",
       "positive   1715      1715      1715  1715      1715  1715 \n",
       "unknown      18        18        18    18        18    18 "
      ]
     },
     "execution_count": 1056,
     "metadata": {},
     "output_type": "execute_result"
    }
   ],
   "source": [
    "df.groupby(by='sentiment').count()"
   ]
  },
  {
   "cell_type": "code",
   "execution_count": 1057,
   "metadata": {},
   "outputs": [
    {
     "data": {
      "image/png": "[encoded data removed]",
      "text/plain": [
       "<Figure size 640x480 with 1 Axes>"
      ]
     },
     "metadata": {},
     "output_type": "display_data"
    }
   ],
   "source": [
    "import matplotlib.pyplot as plt\n",
    "\n",
    "\n",
    "sentiment_counts = df.groupby(by='sentiment').size().reset_index(name='sentiment_count')\n",
    "\n",
    "# Plotting the histogram\n",
    "sentiment_counts.plot(kind='bar', x='sentiment', y='sentiment_count', legend=False)\n",
    "plt.xlabel('Topic')\n",
    "plt.ylabel('Count')\n",
    "plt.title('Topic Counts Histogram')\n",
    "plt.show()"
   ]
  },
  {
   "cell_type": "code",
   "execution_count": null,
   "metadata": {},
   "outputs": [],
   "source": []
  }
 ],
 "metadata": {
  "kernelspec": {
   "display_name": "amc",
   "language": "python",
   "name": "python3"
  },
  "language_info": {
   "codemirror_mode": {
    "name": "ipython",
    "version": 3
   },
   "file_extension": ".py",
   "mimetype": "text/x-python",
   "name": "python",
   "nbconvert_exporter": "python",
   "pygments_lexer": "ipython3",
   "version": "3.11.5"
  },
  "orig_nbformat": 4
 },
 "nbformat": 4,
 "nbformat_minor": 2
}
