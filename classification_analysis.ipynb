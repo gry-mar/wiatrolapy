{
 "cells": [
  {
   "cell_type": "code",
   "execution_count": null,
   "metadata": {},
   "outputs": [],
   "source": [
    "from classification import analyze_text"
   ]
  },
  {
   "cell_type": "code",
   "execution_count": null,
   "metadata": {},
   "outputs": [],
   "source": [
    "import pandas as pd\n",
    "from tqdm import tqdm\n",
    "\n",
    "def classify(data_path: str):\n",
    "    data = pd.read_pickle(f'dane/done/{data_path}.pkl')\n",
    "    print(f'data length: {len(data)}')\n",
    "\n",
    "    data['openai_results'] = None\n",
    "\n",
    "    classification_results = []\n",
    "    \n",
    "    for i, row in tqdm(data.iterrows(), total=len(data), desc='Classifying'):\n",
    "        text = row['text']\n",
    "        \n",
    "        try:\n",
    "            result = analyze_text(text)\n",
    "            classification_results.append(result)\n",
    "            data.iat[i, data.columns.get_loc('openai_results')] = result\n",
    "            if i % 5 == 0:\n",
    "                print('-' * 100)\n",
    "                print(classification_results)\n",
    "                data.to_pickle(f'dane/done/{data_path}.pkl')\n",
    "                \n",
    "        except Exception as e:\n",
    "            print(f\"An error occurred: {e}\")\n",
    "            continue\n",
    "        \n",
    "    data.to_pickle(f'dane/done/{data_path}.pkl')"
   ]
  },
  {
   "cell_type": "code",
   "execution_count": null,
   "metadata": {},
   "outputs": [],
   "source": [
    "classify('tweets_with_sentiment_updated')"
   ]
  },
  {
   "cell_type": "markdown",
   "metadata": {},
   "source": [
    "---"
   ]
  }
 ],
 "metadata": {
  "kernelspec": {
   "display_name": "amc",
   "language": "python",
   "name": "amc"
  },
  "language_info": {
   "codemirror_mode": {
    "name": "ipython",
    "version": 3
   },
   "file_extension": ".py",
   "mimetype": "text/x-python",
   "name": "python",
   "nbconvert_exporter": "python",
   "pygments_lexer": "ipython3",
   "version": "3.11.5"
  },
  "orig_nbformat": 4
 },
 "nbformat": 4,
 "nbformat_minor": 2
}
